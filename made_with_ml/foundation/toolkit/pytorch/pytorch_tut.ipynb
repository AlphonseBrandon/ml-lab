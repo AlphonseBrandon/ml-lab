{
 "cells": [
  {
   "cell_type": "markdown",
   "metadata": {},
   "source": [
    "Set up"
   ]
  },
  {
   "cell_type": "code",
   "execution_count": 2,
   "metadata": {},
   "outputs": [],
   "source": [
    "import numpy as np\n",
    "import torch"
   ]
  },
  {
   "cell_type": "code",
   "execution_count": 3,
   "metadata": {},
   "outputs": [],
   "source": [
    "SEED = 1234"
   ]
  },
  {
   "cell_type": "code",
   "execution_count": null,
   "metadata": {},
   "outputs": [],
   "source": [
    "# set seed for reproducibility\n",
    "np.random.seed(seed=SEED)\n",
    "torch.manual_seed(seed=SEED)"
   ]
  },
  {
   "cell_type": "markdown",
   "metadata": {},
   "source": [
    "Basics"
   ]
  },
  {
   "cell_type": "code",
   "execution_count": 8,
   "metadata": {},
   "outputs": [
    {
     "name": "stdout",
     "output_type": "stream",
     "text": [
      "Type: torch.FloatTensor\n",
      "Size: torch.Size([2, 3])\n",
      "Values: \n",
      "tensor([[-0.0098, -1.4473, -0.2039],\n",
      "        [ 0.8738, -0.6816,  0.6339]])\n"
     ]
    }
   ],
   "source": [
    "# creating a random tensor\n",
    "x = torch.randn(2, 3)\n",
    "print (\n",
    "    f\"Type: {x.type()}\\n\"\n",
    "    f\"Size: {x.shape}\\n\"\n",
    "    f\"Values: \\n{x}\"\n",
    ")"
   ]
  },
  {
   "cell_type": "code",
   "execution_count": 10,
   "metadata": {},
   "outputs": [
    {
     "name": "stdout",
     "output_type": "stream",
     "text": [
      "tensor([[0., 0., 0.],\n",
      "        [0., 0., 0.]])\n",
      "tensor([[1., 1., 1.],\n",
      "        [1., 1., 1.]])\n"
     ]
    }
   ],
   "source": [
    "# zero and ones tensor\n",
    "x = torch.zeros(2, 3)\n",
    "print (x)\n",
    "x = torch.ones(2, 3)\n",
    "print(x)"
   ]
  },
  {
   "cell_type": "code",
   "execution_count": 13,
   "metadata": {},
   "outputs": [
    {
     "name": "stdout",
     "output_type": "stream",
     "text": [
      "Shape: torch.Size([2, 3])\n",
      "Values: \n",
      "tensor([[1., 2., 3.],\n",
      "        [4., 5., 6.]])\n"
     ]
    }
   ],
   "source": [
    "# list to tensor\n",
    "x = torch.Tensor([[1, 2, 3], [4, 5, 6]])\n",
    "print (\n",
    "    f\"Shape: {x.shape}\\n\"\n",
    "    f\"Values: \\n{x}\"\n",
    ")"
   ]
  },
  {
   "cell_type": "code",
   "execution_count": 15,
   "metadata": {},
   "outputs": [
    {
     "name": "stdout",
     "output_type": "stream",
     "text": [
      "Shape: torch.Size([2, 3])\n",
      "Values: \n",
      "tensor([[ 0.8596, -0.6365,  0.0157],\n",
      "        [-2.2427,  1.1500,  0.9919]])\n"
     ]
    }
   ],
   "source": [
    "# Numpy array to tensor\n",
    "x = torch.Tensor(np.random.randn(2, 3))\n",
    "print (\n",
    "    f\"Shape: {x.shape}\\n\"\n",
    "    f\"Values: \\n{x}\"\n",
    ")"
   ]
  },
  {
   "cell_type": "code",
   "execution_count": 19,
   "metadata": {},
   "outputs": [
    {
     "name": "stdout",
     "output_type": "stream",
     "text": [
      "Type: torch.FloatTensor\n",
      "Value: \n",
      "tensor([[4.5919e-41, 0.0000e+00, 0.0000e+00, 0.0000e+00],\n",
      "        [9.0694e+26, 4.5912e-41, 0.0000e+00, 0.0000e+00],\n",
      "        [0.0000e+00, 0.0000e+00, 1.1351e-43, 0.0000e+00]])\n",
      "Type: torch.LongTensor\n",
      "Value: \n",
      "tensor([[                   0,                    0,                    0,\n",
      "                            0],\n",
      "        [-9223372036854775808,                    0,                    0,\n",
      "                            0],\n",
      "        [                   0,                    0,                    0,\n",
      "                            0]])\n"
     ]
    }
   ],
   "source": [
    "# Changing tensor type\n",
    "x = torch.Tensor(3, 4)\n",
    "print (\n",
    "    f\"Type: {x.type()}\\n\"\n",
    "    f\"Value: \\n{x}\"\n",
    "    )\n",
    "x = x.long()\n",
    "print (\n",
    "    f\"Type: {x.type()}\\n\"\n",
    "    f\"Value: \\n{x}\"\n",
    "    )\n"
   ]
  },
  {
   "cell_type": "markdown",
   "metadata": {},
   "source": [
    "Operations"
   ]
  },
  {
   "cell_type": "code",
   "execution_count": 21,
   "metadata": {},
   "outputs": [
    {
     "name": "stdout",
     "output_type": "stream",
     "text": [
      "x: \n",
      "tensor([[ 0.4501,  0.2709, -0.8087],\n",
      "        [-0.0217, -1.0413,  0.0702]])\n",
      "y: \n",
      "tensor([[ 0.5797, -0.0599,  0.1816],\n",
      "        [-0.6797, -0.2567, -1.8189]])\n",
      "x + y Size: torch.Size([2, 3])\n",
      "Sum: \n",
      " tensor([[ 1.0297,  0.2110, -0.6272],\n",
      "        [-0.7014, -1.2980, -1.7486]])\n"
     ]
    }
   ],
   "source": [
    "# Addition\n",
    "x = torch.randn(2, 3)\n",
    "print(f\"x: \\n{x}\")\n",
    "y = torch.randn(2, 3)\n",
    "print(f\"y: \\n{y}\")\n",
    "z = x + y\n",
    "print(\n",
    "    f\"x + y Size: {z.shape}\\n\"\n",
    "    f\"Sum: \\n {z}\"\n",
    ")"
   ]
  },
  {
   "cell_type": "code",
   "execution_count": 22,
   "metadata": {},
   "outputs": [
    {
     "name": "stdout",
     "output_type": "stream",
     "text": [
      "Size: torch.Size([2, 2])\n",
      "Values: \n",
      "tensor([[-0.5756, -1.1599],\n",
      "        [ 1.8682, -1.2855]])\n"
     ]
    }
   ],
   "source": [
    "# dot product\n",
    "x = torch.randn(2, 3)\n",
    "y = torch.randn(3, 2)\n",
    "z = torch.mm(x, y)\n",
    "print(f\"Size: {z.shape}\")\n",
    "print(f\"Values: \\n{z}\")"
   ]
  },
  {
   "cell_type": "code",
   "execution_count": 25,
   "metadata": {},
   "outputs": [
    {
     "name": "stdout",
     "output_type": "stream",
     "text": [
      "Size: torch.Size([2, 3])\n",
      "Values: \n",
      "tensor([[ 0.8246, -0.5723, -0.4876],\n",
      "        [ 0.1944, -1.0481, -0.0741]])\n",
      "Size: torch.Size([3, 2])\n",
      "Values: \n",
      "tensor([[ 0.8246,  0.1944],\n",
      "        [-0.5723, -1.0481],\n",
      "        [-0.4876, -0.0741]])\n"
     ]
    }
   ],
   "source": [
    "# transpose\n",
    "x = torch.randn(2, 3)\n",
    "print(f\"Size: {x.shape}\")\n",
    "print(f\"Values: \\n{x}\")\n",
    "y = torch.t(x)\n",
    "print(f\"Size: {y.shape}\")\n",
    "print(f\"Values: \\n{y}\")"
   ]
  },
  {
   "cell_type": "code",
   "execution_count": 26,
   "metadata": {},
   "outputs": [
    {
     "name": "stdout",
     "output_type": "stream",
     "text": [
      "x: \n",
      "tensor([[-0.3449, -1.5447,  0.0685],\n",
      "        [-1.5104, -1.1706,  0.2259]])\n",
      "Size: torch.Size([3, 2])\n",
      "Reshaped: \n",
      "tensor([[-0.3449, -1.5447],\n",
      "        [ 0.0685, -1.5104],\n",
      "        [-1.1706,  0.2259]])\n"
     ]
    }
   ],
   "source": [
    "# Reshape\n",
    "x = torch.randn(2, 3)\n",
    "print(f\"x: \\n{x}\")\n",
    "z = x.view(3, 2)\n",
    "print(f\"Size: {z.shape}\")\n",
    "print(f\"Reshaped: \\n{z}\")"
   ]
  },
  {
   "cell_type": "code",
   "execution_count": 31,
   "metadata": {},
   "outputs": [
    {
     "name": "stdout",
     "output_type": "stream",
     "text": [
      "Size: torch.Size([2, 3, 4])\n",
      "x: \n",
      "tensor([[[ 1,  1,  1,  1],\n",
      "         [ 2,  2,  2,  2],\n",
      "         [ 3,  3,  3,  3]],\n",
      "\n",
      "        [[10, 10, 10, 10],\n",
      "         [20, 20, 20, 20],\n",
      "         [30, 30, 30, 30]]])\n",
      "\n",
      "\n",
      "Size: torch.Size([3, 8])\n",
      "a: \n",
      "tensor([[ 1,  1,  1,  1,  2,  2,  2,  2],\n",
      "        [ 3,  3,  3,  3, 10, 10, 10, 10],\n",
      "        [20, 20, 20, 20, 30, 30, 30, 30]])\n",
      "\n",
      "\n",
      "Size: torch.Size([3, 2, 4])\n",
      "b: \n",
      "tensor([[[ 1,  1,  1,  1],\n",
      "         [10, 10, 10, 10]],\n",
      "\n",
      "        [[ 2,  2,  2,  2],\n",
      "         [20, 20, 20, 20]],\n",
      "\n",
      "        [[ 3,  3,  3,  3],\n",
      "         [30, 30, 30, 30]]])\n",
      "\n",
      "\n",
      "Size: torch.Size([3, 8])\n",
      "c: \n",
      "tensor([[ 1,  1,  1,  1, 10, 10, 10, 10],\n",
      "        [ 2,  2,  2,  2, 20, 20, 20, 20],\n",
      "        [ 3,  3,  3,  3, 30, 30, 30, 30]])\n"
     ]
    }
   ],
   "source": [
    "# Dangers of reshaping (unintended consequences)\n",
    "x = torch.tensor([\n",
    "    [[1,1,1,1], [2,2,2,2], [3,3,3,3]],\n",
    "    [[10,10,10,10], [20,20,20,20], [30,30,30,30]]\n",
    "])\n",
    "print(f\"Size: {x.shape}\")\n",
    "print(f\"x: \\n{x}\\n\")\n",
    "\n",
    "a = x.view(x.size(1), -1)\n",
    "print(f\"\\nSize: {a.shape}\")\n",
    "print(f\"a: \\n{a}\\n\")\n",
    "\n",
    "b = x.transpose(0,1).contiguous()\n",
    "print(f\"\\nSize: {b.shape}\")\n",
    "print(f\"b: \\n{b}\\n\")\n",
    "\n",
    "c = b.view(b.size(0), -1)\n",
    "print(f\"\\nSize: {c.shape}\")\n",
    "print(f\"c: \\n{c}\")"
   ]
  },
  {
   "cell_type": "code",
   "execution_count": 34,
   "metadata": {},
   "outputs": [
    {
     "name": "stdout",
     "output_type": "stream",
     "text": [
      "x Values: \n",
      "tensor([[-1.5864, -0.2671,  2.6874],\n",
      "        [-0.4633,  0.6639,  0.2383]])\n",
      "y Values: \n",
      "tensor([-2.0497,  0.3969,  2.9257])\n",
      "z Values: \n",
      "tensor([0.8339, 0.4390])\n"
     ]
    }
   ],
   "source": [
    "# Dimentional operation\n",
    "x = torch.randn(2, 3)\n",
    "print(f\"x Values: \\n{x}\")\n",
    "y = torch.sum(x, dim=0) # add each rows value to every column\n",
    "print(f\"y Values: \\n{y}\")\n",
    "z = torch.sum(x, dim=1) # add each columns's value for every row\n",
    "print(f\"z Values: \\n{z}\")"
   ]
  },
  {
   "cell_type": "markdown",
   "metadata": {},
   "source": [
    "Indexing"
   ]
  },
  {
   "cell_type": "code",
   "execution_count": 35,
   "metadata": {},
   "outputs": [
    {
     "name": "stdout",
     "output_type": "stream",
     "text": [
      "X: \n",
      "tensor([[ 0.8305, -0.0838,  0.9523,  0.2016],\n",
      "        [-0.1714, -0.8164, -0.6066, -0.4800]])\n",
      "x[:1]: \n",
      "tensor([[ 0.8305, -0.0838,  0.9523,  0.2016]])\n",
      "x[:1, 1:3]: \n",
      "tensor([[-0.0838,  0.9523]])\n"
     ]
    }
   ],
   "source": [
    "x = torch.randn(2, 4)\n",
    "print(\n",
    "    f\"X: \\n{x}\\n\"\n",
    "    f\"x[:1]: \\n{x[:1]}\\n\"\n",
    "    f\"x[:1, 1:3]: \\n{x[:1, 1:3]}\"\n",
    "    )"
   ]
  },
  {
   "cell_type": "markdown",
   "metadata": {},
   "source": [
    "Slicing"
   ]
  },
  {
   "cell_type": "code",
   "execution_count": 38,
   "metadata": {},
   "outputs": [
    {
     "name": "stdout",
     "output_type": "stream",
     "text": [
      "Values: \n",
      "tensor([[-0.4171, -2.3476,  1.9083],\n",
      "        [-1.8304,  0.3223,  0.9229]])\n",
      "Values: \n",
      "tensor([[-0.4171,  1.9083],\n",
      "        [-1.8304,  0.9229]])\n",
      "Values: \n",
      "tensor([-0.4171,  0.9229])\n"
     ]
    }
   ],
   "source": [
    "# Select with dimensional indices\n",
    "x = torch.randn(2, 3)\n",
    "print(f\"Values: \\n{x}\")\n",
    "\n",
    "col_indices = torch.LongTensor([0, 2])\n",
    "chosen = torch.index_select(x, dim=1, index=col_indices)\n",
    "print(f\"Values: \\n{chosen}\")\n",
    "\n",
    "row_indices = torch.LongTensor([0, 1])\n",
    "col_indices = torch.LongTensor([0, 2])\n",
    "chosen = x[row_indices, col_indices]\n",
    "print(f\"Values: \\n{chosen}\")"
   ]
  },
  {
   "cell_type": "markdown",
   "metadata": {},
   "source": [
    "Joining"
   ]
  },
  {
   "cell_type": "code",
   "execution_count": 39,
   "metadata": {},
   "outputs": [
    {
     "name": "stdout",
     "output_type": "stream",
     "text": [
      "tensor([[-0.0534, -0.3743,  0.0549],\n",
      "        [ 0.3398, -1.3690,  0.5650]])\n",
      "torch.Size([2, 3])\n"
     ]
    }
   ],
   "source": [
    "x = torch.randn(2, 3)\n",
    "print (x)\n",
    "print (x.shape)"
   ]
  },
  {
   "cell_type": "code",
   "execution_count": 40,
   "metadata": {},
   "outputs": [
    {
     "name": "stdout",
     "output_type": "stream",
     "text": [
      "tensor([[-0.0534, -0.3743,  0.0549],\n",
      "        [ 0.3398, -1.3690,  0.5650],\n",
      "        [-0.0534, -0.3743,  0.0549],\n",
      "        [ 0.3398, -1.3690,  0.5650]])\n",
      "torch.Size([4, 3])\n"
     ]
    }
   ],
   "source": [
    "# Concatenation\n",
    "y = torch.cat([x, x], dim=0)\n",
    "print(y)\n",
    "print(y.shape)"
   ]
  },
  {
   "cell_type": "code",
   "execution_count": 42,
   "metadata": {},
   "outputs": [
    {
     "name": "stdout",
     "output_type": "stream",
     "text": [
      "tensor([[[-0.0534, -0.3743,  0.0549],\n",
      "         [ 0.3398, -1.3690,  0.5650]],\n",
      "\n",
      "        [[-0.0534, -0.3743,  0.0549],\n",
      "         [ 0.3398, -1.3690,  0.5650]]])\n",
      "torch.Size([2, 2, 3])\n"
     ]
    }
   ],
   "source": [
    "# stacking\n",
    "z = torch.stack([x, x], dim=0)\n",
    "print(z)\n",
    "print(z.shape)"
   ]
  },
  {
   "cell_type": "markdown",
   "metadata": {},
   "source": [
    "Gradients"
   ]
  },
  {
   "cell_type": "code",
   "execution_count": 47,
   "metadata": {},
   "outputs": [
    {
     "name": "stdout",
     "output_type": "stream",
     "text": [
      "x: \n",
      "tensor([[0.4472, 0.7964, 0.7277, 0.3657],\n",
      "        [0.7023, 0.5396, 0.3144, 0.4608],\n",
      "        [0.9706, 0.6502, 0.0872, 0.8186]], requires_grad=True)\n",
      "x.grad: \n",
      "tensor([[0.2500, 0.2500, 0.2500, 0.2500],\n",
      "        [0.2500, 0.2500, 0.2500, 0.2500],\n",
      "        [0.2500, 0.2500, 0.2500, 0.2500]])\n"
     ]
    }
   ],
   "source": [
    "# Tensors with gradient bookkeeping\n",
    "x = torch.rand(3, 4, requires_grad=True)\n",
    "y = 3*x + 2\n",
    "z = y.mean()\n",
    "z.backward() # z has to be a scalar\n",
    "print (\n",
    "    f\"x: \\n{x}\\n\"\n",
    "    f\"x.grad: \\n{x.grad}\"\n",
    ")"
   ]
  },
  {
   "cell_type": "markdown",
   "metadata": {},
   "source": [
    "CUDA"
   ]
  },
  {
   "cell_type": "code",
   "execution_count": 51,
   "metadata": {},
   "outputs": [
    {
     "name": "stdout",
     "output_type": "stream",
     "text": [
      "False\n"
     ]
    }
   ],
   "source": [
    "# is CUDA available?\n",
    "print (torch.cuda.is_available())"
   ]
  },
  {
   "cell_type": "code",
   "execution_count": 52,
   "metadata": {},
   "outputs": [
    {
     "name": "stdout",
     "output_type": "stream",
     "text": [
      "cpu\n"
     ]
    }
   ],
   "source": [
    "# set device\n",
    "device = torch.device(\"cuda\" if torch.cuda.is_available() else \"cpu\")\n",
    "print(device)"
   ]
  }
 ],
 "metadata": {
  "kernelspec": {
   "display_name": "made-with-ml-R-ji54pT-py3.11",
   "language": "python",
   "name": "python3"
  },
  "language_info": {
   "codemirror_mode": {
    "name": "ipython",
    "version": 3
   },
   "file_extension": ".py",
   "mimetype": "text/x-python",
   "name": "python",
   "nbconvert_exporter": "python",
   "pygments_lexer": "ipython3",
   "version": "3.11.4"
  }
 },
 "nbformat": 4,
 "nbformat_minor": 2
}
