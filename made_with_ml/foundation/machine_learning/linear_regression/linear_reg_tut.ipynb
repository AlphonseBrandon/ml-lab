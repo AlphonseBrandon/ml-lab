{
 "cells": [
  {
   "cell_type": "code",
   "execution_count": 91,
   "metadata": {},
   "outputs": [],
   "source": [
    "import numpy as np \n",
    "import pandas as pd\n",
    "import matplotlib.pyplot as plt"
   ]
  },
  {
   "cell_type": "markdown",
   "metadata": {},
   "source": [
    "Generate data"
   ]
  },
  {
   "cell_type": "code",
   "execution_count": 92,
   "metadata": {},
   "outputs": [],
   "source": [
    "SEED = 1234\n",
    "NUM_SAMPLES = 50"
   ]
  },
  {
   "cell_type": "code",
   "execution_count": 93,
   "metadata": {},
   "outputs": [],
   "source": [
    "# Set seed for reproducibility\n",
    "np.random.seed(seed=SEED)"
   ]
  },
  {
   "cell_type": "code",
   "execution_count": 94,
   "metadata": {},
   "outputs": [],
   "source": [
    "# Generate syntetic data\n",
    "def generate_data(num_samples):\n",
    "    \"\"\"Generate dummy data for linear regression.\"\"\"\n",
    "    X = np.array(range(num_samples))\n",
    "    random_noise = np.random.uniform(-10, 20, size=num_samples)\n",
    "    y = 3.5*X + random_noise # add some noise\n",
    "    return X, y"
   ]
  },
  {
   "cell_type": "code",
   "execution_count": 95,
   "metadata": {},
   "outputs": [
    {
     "name": "stdout",
     "output_type": "stream",
     "text": [
      "[[ 0.         -4.25441649]\n",
      " [ 1.         12.16326313]\n",
      " [ 2.         10.13183217]\n",
      " [ 3.         24.06075751]\n",
      " [ 4.         27.39927424]]\n"
     ]
    }
   ],
   "source": [
    "# Generate random (linear) data\n",
    "X, y = generate_data(num_samples=NUM_SAMPLES)\n",
    "data = np.vstack([X, y]).T\n",
    "print (data[:5])"
   ]
  },
  {
   "cell_type": "code",
   "execution_count": 96,
   "metadata": {},
   "outputs": [
    {
     "data": {
      "text/html": [
       "<div>\n",
       "<style scoped>\n",
       "    .dataframe tbody tr th:only-of-type {\n",
       "        vertical-align: middle;\n",
       "    }\n",
       "\n",
       "    .dataframe tbody tr th {\n",
       "        vertical-align: top;\n",
       "    }\n",
       "\n",
       "    .dataframe thead th {\n",
       "        text-align: right;\n",
       "    }\n",
       "</style>\n",
       "<table border=\"1\" class=\"dataframe\">\n",
       "  <thead>\n",
       "    <tr style=\"text-align: right;\">\n",
       "      <th></th>\n",
       "      <th>x</th>\n",
       "      <th>y</th>\n",
       "    </tr>\n",
       "  </thead>\n",
       "  <tbody>\n",
       "    <tr>\n",
       "      <th>0</th>\n",
       "      <td>0.0</td>\n",
       "      <td>-4.254416</td>\n",
       "    </tr>\n",
       "    <tr>\n",
       "      <th>1</th>\n",
       "      <td>1.0</td>\n",
       "      <td>12.163263</td>\n",
       "    </tr>\n",
       "    <tr>\n",
       "      <th>2</th>\n",
       "      <td>2.0</td>\n",
       "      <td>10.131832</td>\n",
       "    </tr>\n",
       "    <tr>\n",
       "      <th>3</th>\n",
       "      <td>3.0</td>\n",
       "      <td>24.060758</td>\n",
       "    </tr>\n",
       "    <tr>\n",
       "      <th>4</th>\n",
       "      <td>4.0</td>\n",
       "      <td>27.399274</td>\n",
       "    </tr>\n",
       "  </tbody>\n",
       "</table>\n",
       "</div>"
      ],
      "text/plain": [
       "     x          y\n",
       "0  0.0  -4.254416\n",
       "1  1.0  12.163263\n",
       "2  2.0  10.131832\n",
       "3  3.0  24.060758\n",
       "4  4.0  27.399274"
      ]
     },
     "execution_count": 96,
     "metadata": {},
     "output_type": "execute_result"
    }
   ],
   "source": [
    "# Load into a pandas DataFrame\n",
    "df = pd.DataFrame(data=data, columns=[\"x\", \"y\"])\n",
    "X = df[['x']].values\n",
    "y = df[['y']].values\n",
    "df.head()"
   ]
  },
  {
   "cell_type": "code",
   "execution_count": 97,
   "metadata": {},
   "outputs": [
    {
     "data": {
      "image/png": "[encoded data removed]",
      "text/plain": [
       "<Figure size 640x480 with 1 Axes>"
      ]
     },
     "metadata": {},
     "output_type": "display_data"
    }
   ],
   "source": [
    "# Scatter plot\n",
    "plt.title('Generated data')\n",
    "plt.scatter(x=df['x'], y=df['y'])\n",
    "plt.show()"
   ]
  },
  {
   "cell_type": "markdown",
   "metadata": {},
   "source": [
    "### Numpy"
   ]
  },
  {
   "cell_type": "markdown",
   "metadata": {},
   "source": [
    "Split data"
   ]
  },
  {
   "cell_type": "code",
   "execution_count": 98,
   "metadata": {},
   "outputs": [],
   "source": [
    "TRAIN_SIZE = 0.7\n",
    "VAL_SIZE = 0.15\n",
    "TEST_SIZE = 0.15"
   ]
  },
  {
   "cell_type": "code",
   "execution_count": 99,
   "metadata": {},
   "outputs": [],
   "source": [
    "#  shuffle data\n",
    "indices = list(range(NUM_SAMPLES))\n",
    "np.random.shuffle(indices)\n",
    "X = X[indices]\n",
    "y = y[indices]"
   ]
  },
  {
   "cell_type": "code",
   "execution_count": 100,
   "metadata": {},
   "outputs": [],
   "source": [
    "# Split indices\n",
    "train_start = 0\n",
    "train_end = int(TRAIN_SIZE*NUM_SAMPLES)\n",
    "val_start = train_end\n",
    "val_end = int((TRAIN_SIZE+VAL_SIZE)*NUM_SAMPLES)\n",
    "test_start = val_end"
   ]
  },
  {
   "cell_type": "code",
   "execution_count": 101,
   "metadata": {},
   "outputs": [
    {
     "name": "stdout",
     "output_type": "stream",
     "text": [
      "X_train: (35, 1), y_train: (35, 1)\n",
      "X_val: (7, 1), y_test: (7, 1)\n",
      "X_test: (8, 1), y_test: (8, 1)\n"
     ]
    }
   ],
   "source": [
    "# split data\n",
    "X_train = X[train_start:train_end]\n",
    "y_train = y[train_start:train_end]\n",
    "X_val = X[val_start:val_end]\n",
    "y_val = y[val_start:val_end]\n",
    "X_test = X[test_start:]\n",
    "y_test = y[test_start:]\n",
    "print (f\"X_train: {X_train.shape}, y_train: {y_train.shape}\")\n",
    "print (f\"X_val: {X_val.shape}, y_test: {y_val.shape}\")\n",
    "print (f\"X_test: {X_test.shape}, y_test: {y_test.shape}\")"
   ]
  },
  {
   "cell_type": "markdown",
   "metadata": {},
   "source": [
    "Standardize data"
   ]
  },
  {
   "cell_type": "code",
   "execution_count": 102,
   "metadata": {},
   "outputs": [],
   "source": [
    "def standardize_data(data, mean, std):\n",
    "    return (data - mean)/std"
   ]
  },
  {
   "cell_type": "code",
   "execution_count": 103,
   "metadata": {},
   "outputs": [],
   "source": [
    "# Determine means and stds\n",
    "X_mean = np.mean(X_train)\n",
    "X_std = np.std(X_train)\n",
    "y_mean = np.mean(y_train)\n",
    "y_std = np.std(y_train)"
   ]
  },
  {
   "cell_type": "code",
   "execution_count": 104,
   "metadata": {},
   "outputs": [],
   "source": [
    "# standardize \n",
    "X_train = standardize_data(X_train, X_mean, X_std)\n",
    "y_train = standardize_data(y_train, y_mean, y_std)\n",
    "X_val = standardize_data(X_val, X_mean, X_std)\n",
    "y_val = standardize_data(y_val, y_mean, y_std)\n",
    "X_test = standardize_data(X_test, X_mean, X_std)\n",
    "y_test = standardize_data(y_test, y_mean, y_std)"
   ]
  },
  {
   "cell_type": "code",
   "execution_count": 105,
   "metadata": {},
   "outputs": [
    {
     "name": "stdout",
     "output_type": "stream",
     "text": [
      "mean: -0.6, std: 0.9\n",
      "mean: -0.6, std: 0.9\n"
     ]
    }
   ],
   "source": [
    "# Check (means should be ~0 and std should be ~1)\n",
    "print (f\"mean: {np.mean(X_test, axis=0)[0]:.1f}, std: {np.std(X_test, axis=0)[0]:.1f}\")\n",
    "print (f\"mean: {np.mean(y_test, axis=0)[0]:.1f}, std: {np.std(y_test, axis=0)[0]:.1f}\")"
   ]
  },
  {
   "cell_type": "markdown",
   "metadata": {},
   "source": [
    "Weights"
   ]
  },
  {
   "cell_type": "code",
   "execution_count": 106,
   "metadata": {},
   "outputs": [],
   "source": [
    "INPUT_DIM = X_train.shape[1] # X is 1-dimentional\n",
    "OUTPUT_DIM = y_train.shape[1] # y is 1-dimensional"
   ]
  },
  {
   "cell_type": "code",
   "execution_count": 107,
   "metadata": {},
   "outputs": [
    {
     "name": "stdout",
     "output_type": "stream",
     "text": [
      "W: (1, 1)\n",
      "b: (1, 1)\n"
     ]
    }
   ],
   "source": [
    "# Initialize random weights\n",
    "W = 0.01 * np.random.randn(INPUT_DIM, OUTPUT_DIM)\n",
    "b = np.zeros((1, 1))\n",
    "print (f\"W: {W.shape}\")\n",
    "print (f\"b: {b.shape}\")"
   ]
  },
  {
   "cell_type": "markdown",
   "metadata": {},
   "source": [
    "Model"
   ]
  },
  {
   "cell_type": "code",
   "execution_count": 108,
   "metadata": {},
   "outputs": [
    {
     "name": "stdout",
     "output_type": "stream",
     "text": [
      "y_pred: (35, 1)\n"
     ]
    }
   ],
   "source": [
    "# Forward pass [NX1] · [1X1] = [NX1]\n",
    "y_pred = np.dot(X_train, W) + b\n",
    "print(f\"y_pred: {y_pred.shape}\")"
   ]
  },
  {
   "cell_type": "markdown",
   "metadata": {},
   "source": [
    "loss"
   ]
  },
  {
   "cell_type": "code",
   "execution_count": 109,
   "metadata": {},
   "outputs": [
    {
     "name": "stdout",
     "output_type": "stream",
     "text": [
      "Loss: 0.99\n"
     ]
    }
   ],
   "source": [
    "# loss\n",
    "N = len(y_train)\n",
    "loss = (1/N) * np.sum((y_train - y_pred)**2)\n",
    "print(f\"Loss: {loss:.2f}\")"
   ]
  },
  {
   "cell_type": "markdown",
   "metadata": {},
   "source": [
    "Gradient"
   ]
  },
  {
   "cell_type": "code",
   "execution_count": 110,
   "metadata": {},
   "outputs": [],
   "source": [
    "# Backpropagration\n",
    "dW = -(2/N) * np.sum((y_train - y_pred) * X_train)\n",
    "db = -(2/N) * np.sum((y_train - y_pred) * 1)"
   ]
  },
  {
   "cell_type": "markdown",
   "metadata": {},
   "source": [
    "Update weights"
   ]
  },
  {
   "cell_type": "code",
   "execution_count": 111,
   "metadata": {},
   "outputs": [],
   "source": [
    "LEARNING_RATE = 1e-1"
   ]
  },
  {
   "cell_type": "code",
   "execution_count": 112,
   "metadata": {},
   "outputs": [],
   "source": [
    "# update weights\n",
    "W += -LEARNING_RATE * dW\n",
    "b += -LEARNING_RATE * db"
   ]
  },
  {
   "cell_type": "markdown",
   "metadata": {},
   "source": [
    "Training"
   ]
  },
  {
   "cell_type": "code",
   "execution_count": 113,
   "metadata": {},
   "outputs": [],
   "source": [
    "NUM_EPOCHS = 100"
   ]
  },
  {
   "cell_type": "code",
   "execution_count": 114,
   "metadata": {},
   "outputs": [
    {
     "name": "stdout",
     "output_type": "stream",
     "text": [
      "Epoch: 0, loss: 0.990\n",
      "Epoch: 10, loss: 0.039\n",
      "Epoch: 20, loss: 0.028\n",
      "Epoch: 30, loss: 0.028\n",
      "Epoch: 40, loss: 0.028\n",
      "Epoch: 50, loss: 0.028\n",
      "Epoch: 60, loss: 0.028\n",
      "Epoch: 70, loss: 0.028\n",
      "Epoch: 80, loss: 0.028\n",
      "Epoch: 90, loss: 0.028\n"
     ]
    }
   ],
   "source": [
    "# Initialize random weights\n",
    "W = 0.01 * np.random.randn(INPUT_DIM, OUTPUT_DIM)\n",
    "b = np.zeros((1, ))\n",
    "\n",
    "# Training loop\n",
    "for epoch_num in range(NUM_EPOCHS):\n",
    "\n",
    "    # Forward pass [NX1] . [1x1] = [NX1]\n",
    "    y_pred = np.dot(X_train, W) + b\n",
    "\n",
    "    # Loss\n",
    "    loss =(1/len(y_train) * np.sum((y_train - y_pred)**2))\n",
    "    \n",
    "    # show progress\n",
    "    if epoch_num%10==0:\n",
    "        print (f\"Epoch: {epoch_num}, loss: {loss:.3f}\")\n",
    "\n",
    "    # backpropagation\n",
    "    dW = -(2/N) * np.sum((y_train - y_pred) * X_train)\n",
    "    db = -(2/N) * np.sum((y_train - y_pred) * 1)\n",
    "\n",
    "    # Update weights\n",
    "    W += -LEARNING_RATE * dW\n",
    "    b += -LEARNING_RATE * b"
   ]
  },
  {
   "cell_type": "markdown",
   "metadata": {},
   "source": [
    "Evaluation"
   ]
  },
  {
   "cell_type": "code",
   "execution_count": 115,
   "metadata": {},
   "outputs": [],
   "source": [
    "# prediction\n",
    "pred_train = W*X_train + b\n",
    "pred_test = W*X_test + b"
   ]
  },
  {
   "cell_type": "code",
   "execution_count": 116,
   "metadata": {},
   "outputs": [
    {
     "name": "stdout",
     "output_type": "stream",
     "text": [
      "train_MSE: 0.03, test_MSE: 0.01\n"
     ]
    }
   ],
   "source": [
    "# Train and test MSE\n",
    "train_mse = np.mean((y_train - pred_train) ** 2)\n",
    "test_mse = np.mean((y_test - pred_test) ** 2)\n",
    "\n",
    "print (f\"train_MSE: {train_mse:.2f}, test_MSE: {test_mse:.2f}\")"
   ]
  },
  {
   "cell_type": "code",
   "execution_count": 117,
   "metadata": {},
   "outputs": [
    {
     "data": {
      "image/png": "[encoded data removed]",
      "text/plain": [
       "<Figure size 1500x500 with 2 Axes>"
      ]
     },
     "metadata": {},
     "output_type": "display_data"
    }
   ],
   "source": [
    "# figure size\n",
    "plt.figure(figsize=(15, 5))\n",
    "\n",
    "# plot train data\n",
    "plt.subplot(1, 2, 1)\n",
    "plt.title('Train')\n",
    "plt.scatter(X_train, y_train, label='y_train')\n",
    "plt.plot(X_train, pred_train, color='red', linewidth=1, linestyle='-', label='model')\n",
    "plt.legend(loc='lower right')\n",
    "\n",
    "# plot test data\n",
    "plt.subplot(1, 2, 2)\n",
    "plt.title('Test')\n",
    "plt.scatter(X_test, y_test, label='y_test')\n",
    "plt.plot(X_train, pred_train, color='red', linewidth=1, linestyle='-', label='model')\n",
    "plt.legend(loc='lower right')\n",
    "\n",
    "plt.show()"
   ]
  },
  {
   "cell_type": "markdown",
   "metadata": {},
   "source": [
    "Intepretation"
   ]
  },
  {
   "cell_type": "code",
   "execution_count": 118,
   "metadata": {},
   "outputs": [
    {
     "name": "stdout",
     "output_type": "stream",
     "text": [
      "[Actual] y = 3.5X + noise\n",
      "[model] y_hat = 3.4x + 7.8\n"
     ]
    }
   ],
   "source": [
    "# Unscaled weights\n",
    "w_unscaled = W * (y_std/X_std)\n",
    "b_unscaled = b * y_std + y_mean - np.sum((w_unscaled*X_mean))\n",
    "\n",
    "print ('[Actual] y = 3.5X + noise')\n",
    "print (f'[model] y_hat = {w_unscaled[0][0]:.1f}x + {b_unscaled[0]:.1f}')"
   ]
  },
  {
   "cell_type": "markdown",
   "metadata": {},
   "source": [
    "### Pytorch"
   ]
  },
  {
   "cell_type": "markdown",
   "metadata": {},
   "source": [
    "set up"
   ]
  },
  {
   "cell_type": "code",
   "execution_count": 119,
   "metadata": {},
   "outputs": [],
   "source": [
    "import torch\n",
    "from torch import nn"
   ]
  },
  {
   "cell_type": "code",
   "execution_count": 120,
   "metadata": {},
   "outputs": [
    {
     "data": {
      "text/plain": [
       "<torch._C.Generator at 0x7f871538a5b0>"
      ]
     },
     "execution_count": 120,
     "metadata": {},
     "output_type": "execute_result"
    }
   ],
   "source": [
    "# Set seed for reproducibility\n",
    "torch.manual_seed(SEED)"
   ]
  },
  {
   "cell_type": "markdown",
   "metadata": {},
   "source": [
    "split data"
   ]
  },
  {
   "cell_type": "code",
   "execution_count": 121,
   "metadata": {},
   "outputs": [],
   "source": [
    "from sklearn.model_selection import train_test_split"
   ]
  },
  {
   "cell_type": "code",
   "execution_count": 122,
   "metadata": {},
   "outputs": [],
   "source": [
    "TRAIN_SIZE = 0.7\n",
    "VAL_SIZE = 0.15\n",
    "TEST_SIZE = 0.15"
   ]
  },
  {
   "cell_type": "code",
   "execution_count": 123,
   "metadata": {},
   "outputs": [],
   "source": [
    "# split (train)\n",
    "X_train, X_, y_train, y_ = train_test_split(X, y, train_size=TRAIN_SIZE)"
   ]
  },
  {
   "cell_type": "code",
   "execution_count": 124,
   "metadata": {},
   "outputs": [
    {
     "name": "stdout",
     "output_type": "stream",
     "text": [
      "train: 35 (0.7)\n",
      "remaining: 15 (0.3)\n"
     ]
    }
   ],
   "source": [
    "print (f\"train: {len(X_train)} ({len(X_train) / len(X)})\\n\"\n",
    "       f\"remaining: {len(X_)} ({len(X_) / len(X)})\")"
   ]
  },
  {
   "cell_type": "code",
   "execution_count": 125,
   "metadata": {},
   "outputs": [],
   "source": [
    "# split test\n",
    "X_val, X_test, y_val, y_test = train_test_split(\n",
    "    X_, y_, train_size=0.5\n",
    ")"
   ]
  },
  {
   "cell_type": "code",
   "execution_count": 126,
   "metadata": {},
   "outputs": [
    {
     "name": "stdout",
     "output_type": "stream",
     "text": [
      "train: 35 (0.7)\n",
      "val: 7 (0.14)\n",
      "test: 8 (0.16)\n",
      "\n"
     ]
    }
   ],
   "source": [
    "print (\n",
    "    f\"train: {len(X_train)} ({len(X_train) / len(X)})\\n\"\n",
    "    f\"val: {len(X_val)} ({len(X_val) / len(X)})\\n\"\n",
    "    f\"test: {len(X_test)} ({len(X_test) / len(X)})\\n\"\n",
    "    )"
   ]
  },
  {
   "cell_type": "markdown",
   "metadata": {},
   "source": [
    "Standardize data"
   ]
  },
  {
   "cell_type": "code",
   "execution_count": 127,
   "metadata": {},
   "outputs": [],
   "source": [
    "from sklearn.preprocessing import StandardScaler"
   ]
  },
  {
   "cell_type": "code",
   "execution_count": 128,
   "metadata": {},
   "outputs": [],
   "source": [
    "# standardize the data (mean=0, std=1) using training data\n",
    "X_scaler = StandardScaler().fit(X_train)\n",
    "y_scaler = StandardScaler().fit(y_train)"
   ]
  },
  {
   "cell_type": "code",
   "execution_count": null,
   "metadata": {},
   "outputs": [],
   "source": []
  },
  {
   "cell_type": "code",
   "execution_count": 129,
   "metadata": {},
   "outputs": [],
   "source": [
    "# Apply scaller on training and test data\n",
    "X_train = X_scaler.transform(X_train)\n",
    "y_train = y_scaler.transform(y_train).ravel().reshape(-1, 1)\n",
    "X_val = X_scaler.transform(X_val)\n",
    "y_val = y_scaler.transform(y_val).ravel().reshape(-1, 1)\n",
    "X_test = X_scaler.transform(X_test)\n",
    "y_test = y_scaler.transform(y_test).ravel().reshape(-1, 1)"
   ]
  },
  {
   "cell_type": "code",
   "execution_count": 130,
   "metadata": {},
   "outputs": [
    {
     "name": "stdout",
     "output_type": "stream",
     "text": [
      "mean: -0.5 std: 0.8\n",
      "mean: -0.5, std: 0.8\n"
     ]
    }
   ],
   "source": [
    "# check (means should be ~0 and std should ~1)\n",
    "print (f\"mean: {np.mean(X_test, axis=0)[0]:.1f} std: {np.std(X_test, axis=0)[0]:.1f}\")\n",
    "print (f\"mean: {np.mean(y_test, axis=0)[0]:.1f}, std: {np.std(y_test, axis=0)[0]:.1f}\")"
   ]
  },
  {
   "cell_type": "markdown",
   "metadata": {},
   "source": []
  },
  {
   "cell_type": "markdown",
   "metadata": {},
   "source": [
    "Weights"
   ]
  },
  {
   "cell_type": "code",
   "execution_count": 131,
   "metadata": {},
   "outputs": [
    {
     "name": "stdout",
     "output_type": "stream",
     "text": [
      "torch.Size([3, 1])\n",
      "[[ 0.04613046]\n",
      " [ 0.40240282]\n",
      " [-1.0115291 ]]\n"
     ]
    }
   ],
   "source": [
    "# Inputs\n",
    "N = 3 # num samples\n",
    "x = torch.randn(N, INPUT_DIM)\n",
    "print (x.shape)\n",
    "print (x.numpy())"
   ]
  },
  {
   "cell_type": "code",
   "execution_count": 132,
   "metadata": {},
   "outputs": [
    {
     "name": "stdout",
     "output_type": "stream",
     "text": [
      "Linear(in_features=1, out_features=1, bias=True)\n",
      "weights (torch.Size([1, 1])): 0.35\n",
      "bias (torch.Size([1])): -0.34\n"
     ]
    }
   ],
   "source": [
    "# Weights\n",
    "m = nn.Linear(INPUT_DIM, OUTPUT_DIM)\n",
    "print(m)\n",
    "print(f\"weights ({m.weight.shape}): {m.weight[0][0]:.2f}\")\n",
    "print(f\"bias ({m.bias.shape}): {m.bias[0]:.2f}\")"
   ]
  },
  {
   "cell_type": "code",
   "execution_count": 133,
   "metadata": {},
   "outputs": [
    {
     "name": "stdout",
     "output_type": "stream",
     "text": [
      "torch.Size([3, 1])\n",
      "[[-0.32104054]\n",
      " [-0.19719592]\n",
      " [-0.68869597]]\n"
     ]
    }
   ],
   "source": [
    "# forward pass\n",
    "z = m(x)\n",
    "print(z.shape)\n",
    "print(z.detach().numpy())"
   ]
  },
  {
   "cell_type": "markdown",
   "metadata": {},
   "source": [
    "Model"
   ]
  },
  {
   "cell_type": "code",
   "execution_count": 134,
   "metadata": {},
   "outputs": [],
   "source": [
    "class LinearRegression(nn.Module):\n",
    "    def __init__(self, input_dim, output_dim):\n",
    "        super(LinearRegression, self).__init__()\n",
    "        self.fc1 = nn.Linear(input_dim, output_dim)\n",
    "\n",
    "    def forward(self, x_in):\n",
    "        y_pred = self.fc1(x_in)\n",
    "        return y_pred"
   ]
  },
  {
   "cell_type": "code",
   "execution_count": 135,
   "metadata": {},
   "outputs": [
    {
     "name": "stdout",
     "output_type": "stream",
     "text": [
      "<bound method Module.named_parameters of LinearRegression(\n",
      "  (fc1): Linear(in_features=1, out_features=1, bias=True)\n",
      ")>\n"
     ]
    }
   ],
   "source": [
    "# Initialize the model\n",
    "model = LinearRegression(input_dim=INPUT_DIM, output_dim=OUTPUT_DIM)\n",
    "print(model.named_parameters)"
   ]
  },
  {
   "cell_type": "markdown",
   "metadata": {},
   "source": [
    "Loss"
   ]
  },
  {
   "cell_type": "code",
   "execution_count": 140,
   "metadata": {},
   "outputs": [
    {
     "name": "stdout",
     "output_type": "stream",
     "text": [
      "Loss:  0.75\n"
     ]
    }
   ],
   "source": [
    "loss_fn = nn.MSELoss()\n",
    "y_pred = torch.Tensor([0., 0., 1., 1.])\n",
    "y_true =  torch.Tensor([1., 1., 1., 0.])\n",
    "loss = loss_fn(y_pred, y_true)\n",
    "print(\"Loss: \", loss.numpy())"
   ]
  },
  {
   "cell_type": "markdown",
   "metadata": {},
   "source": [
    "Optimizer"
   ]
  },
  {
   "cell_type": "code",
   "execution_count": 141,
   "metadata": {},
   "outputs": [],
   "source": [
    "from torch.optim import Adam"
   ]
  },
  {
   "cell_type": "code",
   "execution_count": 142,
   "metadata": {},
   "outputs": [],
   "source": [
    "# Optimizer\n",
    "optimizer = Adam(model.parameters(), lr=LEARNING_RATE)"
   ]
  },
  {
   "cell_type": "code",
   "execution_count": 143,
   "metadata": {},
   "outputs": [
    {
     "data": {
      "text/plain": [
       "Adam (\n",
       "Parameter Group 0\n",
       "    amsgrad: False\n",
       "    betas: (0.9, 0.999)\n",
       "    capturable: False\n",
       "    differentiable: False\n",
       "    eps: 1e-08\n",
       "    foreach: None\n",
       "    fused: None\n",
       "    lr: 0.1\n",
       "    maximize: False\n",
       "    weight_decay: 0\n",
       ")"
      ]
     },
     "execution_count": 143,
     "metadata": {},
     "output_type": "execute_result"
    }
   ],
   "source": [
    "optimizer"
   ]
  },
  {
   "cell_type": "code",
   "execution_count": null,
   "metadata": {},
   "outputs": [],
   "source": []
  },
  {
   "cell_type": "markdown",
   "metadata": {},
   "source": [
    "Training"
   ]
  },
  {
   "cell_type": "code",
   "execution_count": 144,
   "metadata": {},
   "outputs": [],
   "source": [
    "# Convert data to tensors\n",
    "X_train = torch.Tensor(X_train)\n",
    "y_train = torch.Tensor(y_train)\n",
    "X_val = torch.Tensor(X_val)\n",
    "y_val = torch.Tensor(y_val)\n",
    "X_test = torch.Tensor(X_test)\n",
    "y_test = torch.Tensor(y_test)"
   ]
  },
  {
   "cell_type": "code",
   "execution_count": 146,
   "metadata": {},
   "outputs": [
    {
     "name": "stdout",
     "output_type": "stream",
     "text": [
      "Epoch: 0 | loss: 0.22\n",
      "Epoch: 20 | loss: 0.03\n",
      "Epoch: 40 | loss: 0.02\n",
      "Epoch: 60 | loss: 0.02\n",
      "Epoch: 80 | loss: 0.02\n"
     ]
    }
   ],
   "source": [
    "# Training\n",
    "for epoch in range(NUM_EPOCHS):\n",
    "    # forward pass\n",
    "    y_pred = model(X_train)\n",
    "\n",
    "    # Loss\n",
    "    loss = loss_fn(y_pred, y_train)\n",
    "\n",
    "    # Zero all gradients\n",
    "    optimizer.zero_grad()\n",
    "\n",
    "    # Backward pass\n",
    "    loss.backward()\n",
    "\n",
    "    # Update weights\n",
    "    optimizer.step()\n",
    "\n",
    "    if epoch%20==0:\n",
    "        print(f\"Epoch: {epoch} | loss: {loss:.2f}\")"
   ]
  },
  {
   "cell_type": "markdown",
   "metadata": {},
   "source": [
    "Evaluation"
   ]
  },
  {
   "cell_type": "code",
   "execution_count": 147,
   "metadata": {},
   "outputs": [],
   "source": [
    "# predictions\n",
    "pred_train = model(X_train)\n",
    "pred_test = model(X_test)"
   ]
  },
  {
   "cell_type": "code",
   "execution_count": 148,
   "metadata": {},
   "outputs": [
    {
     "name": "stdout",
     "output_type": "stream",
     "text": [
      "train_error: 0.02\n",
      "test_error: 0.01\n"
     ]
    }
   ],
   "source": [
    "# Perfomance\n",
    "train_error = loss_fn(pred_train, y_train)\n",
    "test_error = loss_fn(pred_test, y_test)\n",
    "print(f\"train_error: {train_error:.2f}\")\n",
    "print(f\"test_error: {test_error:.2f}\")"
   ]
  },
  {
   "cell_type": "code",
   "execution_count": 153,
   "metadata": {},
   "outputs": [
    {
     "data": {
      "image/png": "[encoded data removed]",
      "text/plain": [
       "<Figure size 1500x500 with 2 Axes>"
      ]
     },
     "metadata": {},
     "output_type": "display_data"
    }
   ],
   "source": [
    "# Figure size\n",
    "plt.figure(figsize=(15, 5))\n",
    "\n",
    "# plot train data\n",
    "plt.subplot(1, 2, 1)\n",
    "plt.title(\"Train\")\n",
    "plt.scatter(X_train, y_train, label=\"y_train\")\n",
    "plt.plot(X_train, pred_train.detach().numpy(), color=\"red\", linewidth=1, linestyle=\"-\", label=\"model\")\n",
    "plt.legend(loc=\"lower right\")\n",
    "\n",
    "# plot test data\n",
    "plt.subplot(1, 2, 2)\n",
    "plt.title(\"Test\")\n",
    "plt.scatter(X_test, y_test, label=\"y_test\")\n",
    "plt.plot(X_test, pred_test.detach().numpy(), color=\"red\", linewidth=1, linestyle=\"-\", label=\"model\")\n",
    "plt.legend(loc=\"lower right\")\n",
    "\n",
    "plt.show()"
   ]
  },
  {
   "cell_type": "markdown",
   "metadata": {},
   "source": [
    "Inference"
   ]
  },
  {
   "cell_type": "code",
   "execution_count": 155,
   "metadata": {},
   "outputs": [],
   "source": [
    "# Feed in your own inputs\n",
    "sample_indices = [10, 15, 25]\n",
    "x_infer = np.array(sample_indices, dtype=np.float32)\n",
    "x_infer = torch.Tensor(X_scaler.transform(x_infer.reshape(-1, 1)))"
   ]
  },
  {
   "cell_type": "code",
   "execution_count": 161,
   "metadata": {},
   "outputs": [
    {
     "name": "stdout",
     "output_type": "stream",
     "text": [
      "35.73 (actual) : 41.86 (predicted)\n",
      "59.34 (actual) : 59.10 (predicted)\n",
      "97.04 (actual) : 93.58 (predicted)\n"
     ]
    }
   ],
   "source": [
    "# Unstandardize predictions\n",
    "pred_infer = model(x_infer).detach().numpy() * np.sqrt(y_scaler.var_) + y_scaler.mean_\n",
    "for i, index in enumerate(sample_indices):\n",
    "    print(f\"{df.iloc[index]['y']:.2f} (actual) : {pred_infer[i][0]:.2f} (predicted)\")"
   ]
  },
  {
   "cell_type": "markdown",
   "metadata": {},
   "source": [
    "Interpretability"
   ]
  },
  {
   "cell_type": "code",
   "execution_count": 168,
   "metadata": {},
   "outputs": [
    {
     "name": "stdout",
     "output_type": "stream",
     "text": [
      "[actual] y = 3.5X + noise\n",
      "[model] y_hat = 3.4X + 7.4\n"
     ]
    }
   ],
   "source": [
    "# Unstandardize coefficients\n",
    "W = model.fc1.weight.detach().numpy()[0][0]\n",
    "b = model.fc1.bias.detach().numpy()[0]\n",
    "W_unscaled = W * (y_scaler.scale_/X_scaler.scale_)\n",
    "b_unscaled = b * y_scaler.scale_ + y_scaler.mean_ - np.sum(W_unscaled * X_scaler.mean_)\n",
    "\n",
    "print (\"[actual] y = 3.5X + noise\")\n",
    "print (f\"[model] y_hat = {W_unscaled[0]:.1f}X + {b_unscaled[0]:.1f}\")"
   ]
  },
  {
   "cell_type": "markdown",
   "metadata": {},
   "source": [
    "Regularization"
   ]
  },
  {
   "cell_type": "code",
   "execution_count": 169,
   "metadata": {},
   "outputs": [],
   "source": [
    "L2_LAMDA =1e-2"
   ]
  },
  {
   "cell_type": "code",
   "execution_count": 170,
   "metadata": {},
   "outputs": [],
   "source": [
    "# Initialize the model\n",
    "model = LinearRegression(input_dim=INPUT_DIM, output_dim=OUTPUT_DIM)"
   ]
  },
  {
   "cell_type": "code",
   "execution_count": 171,
   "metadata": {},
   "outputs": [],
   "source": [
    "# Optimizer\n",
    "optimizer = Adam(model.parameters(), lr=LEARNING_RATE, weight_decay=L2_LAMDA)"
   ]
  },
  {
   "cell_type": "code",
   "execution_count": 172,
   "metadata": {},
   "outputs": [
    {
     "name": "stdout",
     "output_type": "stream",
     "text": [
      "Epoch: 0 | Loss: 0.63\n",
      "Epoch: 20 | Loss: 0.04\n",
      "Epoch: 40 | Loss: 0.02\n",
      "Epoch: 60 | Loss: 0.02\n",
      "Epoch: 80 | Loss: 0.02\n"
     ]
    }
   ],
   "source": [
    "# Training\n",
    "for epoch in range(NUM_EPOCHS):\n",
    "    # Forward pass\n",
    "    y_pred = model(X_train)\n",
    "\n",
    "    # Loss\n",
    "    loss = loss_fn(y_pred, y_train)\n",
    "\n",
    "    # Zero all gradients\n",
    "    optimizer.zero_grad()\n",
    "\n",
    "    # Backward pass\n",
    "    loss.backward()\n",
    "\n",
    "    # Update weights\n",
    "    optimizer.step()\n",
    "\n",
    "    if epoch%20==0:\n",
    "        print(f\"Epoch: {epoch} | Loss: {loss:.2f}\")"
   ]
  },
  {
   "cell_type": "code",
   "execution_count": 173,
   "metadata": {},
   "outputs": [],
   "source": [
    "# Predictions\n",
    "pred_train = model(X_train)\n",
    "pred_test = model(X_test)"
   ]
  },
  {
   "cell_type": "code",
   "execution_count": 174,
   "metadata": {},
   "outputs": [
    {
     "name": "stdout",
     "output_type": "stream",
     "text": [
      "train_error: 0.02\n",
      "test_error: 0.01\n"
     ]
    }
   ],
   "source": [
    "# Perfomance\n",
    "train_error = loss_fn(pred_train, y_train)\n",
    "test_error = loss_fn(pred_test, y_test)\n",
    "print(\n",
    "    f\"train_error: {train_error:.2f}\\n\"\n",
    "    f\"test_error: {test_error:.2f}\"\n",
    ")"
   ]
  }
 ],
 "metadata": {
  "kernelspec": {
   "display_name": "made-with-ml-R-ji54pT-py3.11",
   "language": "python",
   "name": "python3"
  },
  "language_info": {
   "codemirror_mode": {
    "name": "ipython",
    "version": 3
   },
   "file_extension": ".py",
   "mimetype": "text/x-python",
   "name": "python",
   "nbconvert_exporter": "python",
   "pygments_lexer": "ipython3",
   "version": "3.11.4"
  }
 },
 "nbformat": 4,
 "nbformat_minor": 2
}
